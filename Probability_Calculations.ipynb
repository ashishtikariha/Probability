{
 "cells": [
  {
   "cell_type": "code",
   "execution_count": 38,
   "metadata": {
    "collapsed": true
   },
   "outputs": [],
   "source": [
    "@copyright\n",
    "#Author : Utkarsh Kulshrestha\n",
    "#Email : kuls.utkarsh1205@gmail.com\n",
    "#Designation : Artificial Intelligence Engineer"
   ]
  },
  {
   "cell_type": "markdown",
   "metadata": {},
   "source": [
    "## Probability Calculations\n",
    "\n",
    "## For basic probability calculations random module is usefull."
   ]
  },
  {
   "cell_type": "code",
   "execution_count": 1,
   "metadata": {},
   "outputs": [
    {
     "name": "stdout",
     "output_type": "stream",
     "text": [
      "The probability of rolling an even number or greater than 7 is: 66.68 %\n"
     ]
    }
   ],
   "source": [
    "# Basic python program to calculate the probability of rolling an even number or greater than 7 in a roll of two dices.\n",
    "\n",
    "import numpy as np\n",
    "import random\n",
    "\n",
    "#Function for rolling the dice\n",
    "def roll_the_dice(n_simulations = 100000):\n",
    "    \n",
    "    count = 0\n",
    "    \n",
    "    #Each iteration of for loop is the trail\n",
    "    for i in range(n_simulations):\n",
    "        \n",
    "        #Roll each die\n",
    "        die1 = random.randint(1,6)\n",
    "        die2 = random.randint(1,6)\n",
    "        \n",
    "        #Sum the values to get the score\n",
    "        score = die1 + die2\n",
    "        \n",
    "        #Decide if we should add it to the count\n",
    "        if ((score % 2 == 0) or (score > 7)):\n",
    "            count += 1\n",
    "            \n",
    "    return count/n_simulations\n",
    "\n",
    "string = 'The probability of rolling an even number or greater than 7 is:'\n",
    "print (string,np.round(roll_the_dice()*100,2), '%')"
   ]
  },
  {
   "cell_type": "code",
   "execution_count": 3,
   "metadata": {},
   "outputs": [
    {
     "name": "stdout",
     "output_type": "stream",
     "text": [
      "0.2418\n"
     ]
    }
   ],
   "source": [
    "#A box contains 12 transistors of type A and 18 of type B. \n",
    "#Two transistors are taken out at random and returned.  \n",
    "#Determine the probability that the first chosen is type A and second is type B. \n",
    "\n",
    "import random\n",
    "\n",
    "trials = 10000 # total number of trials\n",
    "totalA = 12 # total number of A transistors\n",
    "totalB = 18 # total number of B transistors\n",
    "\n",
    "successes = 0 # variable keeping track of how many successful pulls there were\n",
    "\n",
    "choicelist = list(\"A\" * totalA + \"B\" * totalB) # list containing transitors to correct proportion\n",
    "#print(choicelist)\n",
    "\n",
    "def transistor():\n",
    "    return random.choice(choicelist) # pick a random transistor from list\n",
    "\n",
    "for i in range(trials):\n",
    "    try1 = transistor()\n",
    "    try2 = transistor()\n",
    "    if try1 == \"A\" and try2 == \"B\": # if first pull is type A and second is type B...\n",
    "        successes += 1 # ...then it's successful\n",
    "print (float(successes) / trials) # print out the proportion of successes to trials"
   ]
  },
  {
   "cell_type": "markdown",
   "metadata": {},
   "source": [
    "# Binomial Probability Calculations & Distributions"
   ]
  },
  {
   "cell_type": "code",
   "execution_count": 11,
   "metadata": {},
   "outputs": [
    {
     "name": "stdout",
     "output_type": "stream",
     "text": [
      "[ 5  6  6  5  5  4  4  7  4  5  5  6  4  2  6  6  6  7  6  7  6  5  3  5\n",
      "  3  4  3  5  3  5  5  6  5  5  5  5  3  8  5  3  6  4  3  6  5  4  6  6\n",
      "  4  3  4  5  5  5  5  4  6  6  4  3  4  8  5  5  4  1  3  4  4  7  2  8\n",
      "  6  6  4  6  6  3  1  5  4  6  6  7  3  6  6  6  4  7  4  2  5  5  5  5\n",
      "  4  5  4  6  8  6  5  3  5  5  5  6  9  7  4  5  7  8  3  4  4  4  5  8\n",
      "  5  2  7  7  4  7  7  8  3  6  5  5  5  4  6  4  6  5  2  5  8  5  9  6\n",
      "  4  6  8  4  7  3  4  5  7  7  3  6  4  8  6  5  3  8  5  4  3  4  7  6\n",
      "  6  4  7  6  6  8  2  7  4  5  7  5  6  5  6  6  4  5  5  4  3  7  7  1\n",
      "  6  6  6  7  5  4  5  3  6  5  4  6  5  6  6  3  7  3  3  4  3  4  5  5\n",
      "  3  6  6  4  4  3  7  6  5  5  4  8  3  8  1  2  7  1  5  2  3  4  4  3\n",
      "  4  5  2  8  5  8  5  7  3  4  5  1  3  6  2  3  5  5  6  4  4  5  7  3\n",
      "  3  5  4  4  4  6  4  4  4  4  4  3  6  6  3  5  5  7  6  2  6  3  4  4\n",
      "  5  4  4  6  4  8  4  6  3  3  5  5  7  5  4  5  5  5  7  3  6  5  4  5\n",
      "  5  7  4  4  6  2  7  5  5  3  6  1  3  9  4  4  4  7  6  5  6  4  6  7\n",
      "  6  5  5  7  3  4  4  4  6  8  7  4  4  5  6  5  4  6  3  4  4  4  4  6\n",
      "  3  5  3  9  4  4  6  7  4  4  6  6  3  2  3  5  5  7  4  5  7  5  3  3\n",
      "  7  4  5  7  7  5  6  8  7  2  8  6  8  6  4  7  4  7  6  4  5  5  5  3\n",
      "  6  3  3  7  4  3  6  5  3  4  7  2  5  3  5  4  4  7  4  5  7  3  6  3\n",
      "  6  3  4  5  7  3  5  3  6  6  7  5  4  5  5  2  5  5  2  6  4  6  4  5\n",
      "  7  6  2  4  2  5  7  5  3  1  5  4  1  3  7  4  2  3  6  6  3  5  4  6\n",
      "  5  5  6  7  5  6  6  8  3  6  5  5  3  3  7  6  5  4  4  6  4  4  3  7\n",
      "  4  7  4  3  6  4  6  7  7  7  4  3  5  4  5  3  5  5  6  7  4  4  2  3\n",
      "  4  7  5  9  6  5  5  3  9  4  6  4  6  7  6  6  6  4  4  4  5  5  6  5\n",
      "  4  7  5  8  5  6  4  5  4  5  4  5  6  4  5  6  3  4  3  6  7  6  4  2\n",
      "  4  3  4  6  6  4  3  7  5  6  3  4  4  7  2  4  6  3  4  5  1  6  3  4\n",
      "  3  3  7  6  2  4  5  3  3  6  3  5  4  3  5  5  4  4  7  5  5  4  6  5\n",
      "  6  7  3  5  5  6  5  5  6  5  6  6  6  4  5  7  6  6  3  4  7  6  5  6\n",
      "  5  6  2  5  5  8  6  5  6  3  4  7  4  8  8  4  6  7  4  5  5  6  6  3\n",
      "  3  4  5  4  7  5  6  4  6  7  6  8  6  7  5  4  5  5  4  0  6  5  3  7\n",
      "  4  2  3  7  3  6  4  8  4  5  4  6  5  0  4  7  4  3  4  4  4  7  6  4\n",
      "  6  5  6  3  3  5  3  5  5  5  5  5  3  4  5  3  6  9  5  4  6  4  5  4\n",
      "  4  4  5  6  6  7  4  5  5  5  6  5  7  7  5  4  6  4  7  8  6  5  6  4\n",
      "  5  5  5  7  6  6  3  6  5  3  6  6  5  8  3  3  3  7  7  5  6  4  4  7\n",
      "  5  5  6  5  7  6  5  6  5  4  5  6  6  4  5  7  7  7  6  5  6  3  4  4\n",
      "  5  4  6  5  6  3  3  7  4  5  3  6  3  3  3  5  4 10  6  6  3  5  4  5\n",
      "  4  9  6  3  8  3  3  6  8  4  8  1  4  9  5  6  8  7  3  5  5  5  2  3\n",
      "  2  5  5  6  6  7  5  4  7  4  7  3  2  5  3  6  5  6  7  4  9  3  3  4\n",
      "  6  4  4  4  4  4  9  2  7  4  4  6  4  6  4  7  7  6  5  3  3  5  5  5\n",
      "  6  6  7  5  6  4  6  7  4  4  8  4  3  9  5  5  8  6  2  4  4  7  4  5\n",
      "  5  5  3  7  5  6  4  3  7  3  7  4  5  3  7  6  2  5  5  4  4  3  5  4\n",
      "  6  5  5  6  4  4  5  4  3  3  6  4  3  5  3  3  6  6  4  3  6  6  5  6\n",
      "  5  7  2  5  3  6  7  7  8  5  8  6  5  7  4  8]\n"
     ]
    }
   ],
   "source": [
    "#Syntax : numpy.random.binomial(n, p, size=None)¶\n",
    "\n",
    "# result of flipping 10 times at a time,tested 1000 times.\n",
    "# looking for number of heads in each trial.\n",
    "\n",
    "n, p = 10, .5                              \n",
    "s = np.random.binomial(n, p, 1000)\n",
    "print (s)"
   ]
  },
  {
   "cell_type": "code",
   "execution_count": 12,
   "metadata": {
    "collapsed": true
   },
   "outputs": [],
   "source": [
    "#A real world example. A company drills 9 wild-cat oil exploration wells, \n",
    "#each with an estimated probability of success of 0.1. All nine wells fail. \n",
    "#What is the probability of that happening?\n",
    "#Let’s do 20,000 trials of the model, and count the number that generate zero positive results."
   ]
  },
  {
   "cell_type": "code",
   "execution_count": 6,
   "metadata": {},
   "outputs": [
    {
     "data": {
      "text/plain": [
       "array([1, 0, 1, ..., 1, 2, 0])"
      ]
     },
     "execution_count": 6,
     "metadata": {},
     "output_type": "execute_result"
    }
   ],
   "source": [
    "np.random.binomial(9, 0.1, 20000)"
   ]
  },
  {
   "cell_type": "code",
   "execution_count": 7,
   "metadata": {},
   "outputs": [
    {
     "data": {
      "text/plain": [
       "array([False, False,  True, ..., False,  True,  True])"
      ]
     },
     "execution_count": 7,
     "metadata": {},
     "output_type": "execute_result"
    }
   ],
   "source": [
    "np.random.binomial(9, 0.1, 20000)==0"
   ]
  },
  {
   "cell_type": "code",
   "execution_count": 12,
   "metadata": {},
   "outputs": [
    {
     "data": {
      "text/plain": [
       "7770"
      ]
     },
     "execution_count": 12,
     "metadata": {},
     "output_type": "execute_result"
    }
   ],
   "source": [
    "sum(np.random.binomial(9, 0.1, 20000) == 0)"
   ]
  },
  {
   "cell_type": "code",
   "execution_count": 10,
   "metadata": {},
   "outputs": [
    {
     "data": {
      "text/plain": [
       "0.38645"
      ]
     },
     "execution_count": 10,
     "metadata": {},
     "output_type": "execute_result"
    }
   ],
   "source": [
    "sum(np.random.binomial(9, 0.1, 20000) == 0)/20000"
   ]
  },
  {
   "cell_type": "code",
   "execution_count": 14,
   "metadata": {},
   "outputs": [
    {
     "data": {
      "image/png": "[encoded data removed]",
      "text/plain": [
       "<Figure size 432x288 with 1 Axes>"
      ]
     },
     "metadata": {
      "needs_background": "light"
     },
     "output_type": "display_data"
    }
   ],
   "source": [
    "#Binomial Probability Distribution\n",
    "import seaborn as sns\n",
    "from scipy.stats import binom\n",
    "import matplotlib.pyplot as plt\n",
    "\n",
    "binom.rvs(n=10,p=0.5)\n",
    "binom.rvs(size=5,n=10,p=0.5)\n",
    "\n",
    "data_binom = binom.rvs(n=10,p=0.5,size=10000)\n",
    "ax = sns.distplot(data_binom, kde=False, color='skyblue',hist_kws={\"linewidth\": 15,'alpha':1})\n",
    "ax.set(xlabel='Binomial', ylabel='Frequency')\n",
    "plt.show()"
   ]
  },
  {
   "cell_type": "markdown",
   "metadata": {},
   "source": [
    "## Poission Probability Calculations & Distributions"
   ]
  },
  {
   "cell_type": "code",
   "execution_count": 15,
   "metadata": {},
   "outputs": [
    {
     "data": {
      "image/png": "[encoded data removed]",
      "text/plain": [
       "<Figure size 432x288 with 1 Axes>"
      ]
     },
     "metadata": {
      "needs_background": "light"
     },
     "output_type": "display_data"
    }
   ],
   "source": [
    "import matplotlib.pyplot as plt\n",
    "\n",
    "gaussian = np.random.normal(0.5, 2*np.sqrt(2*np.log(2)), 1000)\n",
    "poisson = np.random.poisson(0.5, 1000)\n",
    "\n",
    "plt.hist(gaussian)\n",
    "plt.hist(poisson)\n",
    "plt.show()"
   ]
  },
  {
   "cell_type": "code",
   "execution_count": 16,
   "metadata": {},
   "outputs": [
    {
     "data": {
      "text/plain": [
       "[Text(0.5, 0, 'Poisson'), Text(0, 0.5, 'Frequency')]"
      ]
     },
     "execution_count": 16,
     "metadata": {},
     "output_type": "execute_result"
    },
    {
     "data": {
      "image/png": "[encoded data removed]",
      "text/plain": [
       "<Figure size 432x288 with 1 Axes>"
      ]
     },
     "metadata": {
      "needs_background": "light"
     },
     "output_type": "display_data"
    }
   ],
   "source": [
    "from scipy.stats import poisson\n",
    "import seaborn as sb\n",
    "\n",
    "data_binom = poisson.rvs(mu=4, size=10000)\n",
    "\n",
    "ax = sb.distplot(data_binom,\n",
    "                  kde=True,\n",
    "                  color='green',\n",
    "                  hist_kws={\"linewidth\": 25,'alpha':1})\n",
    "ax.set(xlabel='Poisson', ylabel='Frequency')"
   ]
  },
  {
   "cell_type": "code",
   "execution_count": 17,
   "metadata": {},
   "outputs": [
    {
     "name": "stdout",
     "output_type": "stream",
     "text": [
      "[5 7 5 ... 3 3 6]\n"
     ]
    }
   ],
   "source": [
    "#Syntax : numpy.random.poisson(lam=1.0, size=None)¶\n",
    "\n",
    "import numpy as np\n",
    "s = np.random.poisson(5, 10000)\n",
    "print (s)"
   ]
  },
  {
   "cell_type": "code",
   "execution_count": 33,
   "metadata": {},
   "outputs": [
    {
     "data": {
      "image/png": "[encoded data removed]",
      "text/plain": [
       "<matplotlib.figure.Figure at 0x7f63c22e56a0>"
      ]
     },
     "metadata": {},
     "output_type": "display_data"
    }
   ],
   "source": [
    "import matplotlib.pyplot as plt\n",
    "count, bins, ignored = plt.hist(s, 14, normed=True)\n",
    "plt.show()"
   ]
  },
  {
   "cell_type": "code",
   "execution_count": 18,
   "metadata": {},
   "outputs": [
    {
     "name": "stdout",
     "output_type": "stream",
     "text": [
      "0.06321459690112517\n"
     ]
    },
    {
     "data": {
      "image/png": "[encoded data removed]",
      "text/plain": [
       "<Figure size 432x288 with 1 Axes>"
      ]
     },
     "metadata": {
      "needs_background": "light"
     },
     "output_type": "display_data"
    }
   ],
   "source": [
    "from scipy.stats import poisson\n",
    "import matplotlib.pyplot as plt\n",
    "plt.ylabel('Probability of car passing')\n",
    "plt.xlabel('Number of cars')\n",
    "plt.title('Probability Distribution Curve')\n",
    "arr = []\n",
    "rv = poisson(25)               # Creating a possion variable with mean 25\n",
    "for num in range(0,40):\n",
    "    arr.append(rv.pmf(num))\n",
    "\n",
    "#print(rv.pmf(28))\n",
    "prob = rv.pmf(28)\n",
    "print (prob)\n",
    "plt.grid(True)\n",
    "plt.plot(arr, linewidth=2.0)\n",
    "plt.plot([28], [prob], marker='o', markersize=6, color=\"red\")        # For green dot\n",
    "plt.show()"
   ]
  },
  {
   "cell_type": "code",
   "execution_count": null,
   "metadata": {
    "collapsed": true
   },
   "outputs": [],
   "source": []
  }
 ],
 "metadata": {
  "kernelspec": {
   "display_name": "Python 3",
   "language": "python",
   "name": "python3"
  },
  "language_info": {
   "codemirror_mode": {
    "name": "ipython",
    "version": 3
   },
   "file_extension": ".py",
   "mimetype": "text/x-python",
   "name": "python",
   "nbconvert_exporter": "python",
   "pygments_lexer": "ipython3",
   "version": "3.8.5"
  }
 },
 "nbformat": 4,
 "nbformat_minor": 2
}
